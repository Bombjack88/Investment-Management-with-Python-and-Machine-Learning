{
 "cells": [
  {
   "cell_type": "markdown",
   "metadata": {},
   "source": [
    "# Assignment 2"
   ]
  },
  {
   "cell_type": "code",
   "execution_count": 1,
   "metadata": {},
   "outputs": [],
   "source": [
    "%load_ext autoreload\n",
    "%autoreload 2\n",
    "%matplotlib inline\n",
    "\n",
    "import numpy as np\n",
    "import pandas as pd\n",
    "import edhec_risk_kit as erk\n"
   ]
  },
  {
   "cell_type": "code",
   "execution_count": 2,
   "metadata": {},
   "outputs": [],
   "source": [
    "# import and transform data\n",
    "hfi=pd.read_csv(r\"C:\\Users\\fiu126\\Desktop\\Coursera\\Python\\Introduction to Portfolio Construction and Analysis with Python\\data\\edhec-hedgefundindices.csv\",header=0,index_col=0,parse_dates=True)\n",
    "hfi = hfi/100\n",
    "hfi.index =hfi.index.to_period('M')"
   ]
  },
  {
   "cell_type": "code",
   "execution_count": 3,
   "metadata": {},
   "outputs": [
    {
     "data": {
      "text/html": [
       "<div>\n",
       "<style scoped>\n",
       "    .dataframe tbody tr th:only-of-type {\n",
       "        vertical-align: middle;\n",
       "    }\n",
       "\n",
       "    .dataframe tbody tr th {\n",
       "        vertical-align: top;\n",
       "    }\n",
       "\n",
       "    .dataframe thead th {\n",
       "        text-align: right;\n",
       "    }\n",
       "</style>\n",
       "<table border=\"1\" class=\"dataframe\">\n",
       "  <thead>\n",
       "    <tr style=\"text-align: right;\">\n",
       "      <th></th>\n",
       "      <th>Convertible Arbitrage</th>\n",
       "      <th>CTA Global</th>\n",
       "      <th>Distressed Securities</th>\n",
       "      <th>Emerging Markets</th>\n",
       "      <th>Equity Market Neutral</th>\n",
       "      <th>Event Driven</th>\n",
       "      <th>Fixed Income Arbitrage</th>\n",
       "      <th>Global Macro</th>\n",
       "      <th>Long/Short Equity</th>\n",
       "      <th>Merger Arbitrage</th>\n",
       "      <th>Relative Value</th>\n",
       "      <th>Short Selling</th>\n",
       "      <th>Funds Of Funds</th>\n",
       "    </tr>\n",
       "    <tr>\n",
       "      <th>date</th>\n",
       "      <th></th>\n",
       "      <th></th>\n",
       "      <th></th>\n",
       "      <th></th>\n",
       "      <th></th>\n",
       "      <th></th>\n",
       "      <th></th>\n",
       "      <th></th>\n",
       "      <th></th>\n",
       "      <th></th>\n",
       "      <th></th>\n",
       "      <th></th>\n",
       "      <th></th>\n",
       "    </tr>\n",
       "  </thead>\n",
       "  <tbody>\n",
       "    <tr>\n",
       "      <th>1997-01</th>\n",
       "      <td>0.0119</td>\n",
       "      <td>0.0393</td>\n",
       "      <td>0.0178</td>\n",
       "      <td>0.0791</td>\n",
       "      <td>0.0189</td>\n",
       "      <td>0.0213</td>\n",
       "      <td>0.0191</td>\n",
       "      <td>0.0573</td>\n",
       "      <td>0.0281</td>\n",
       "      <td>0.0150</td>\n",
       "      <td>0.0180</td>\n",
       "      <td>-0.0166</td>\n",
       "      <td>0.0317</td>\n",
       "    </tr>\n",
       "    <tr>\n",
       "      <th>1997-02</th>\n",
       "      <td>0.0123</td>\n",
       "      <td>0.0298</td>\n",
       "      <td>0.0122</td>\n",
       "      <td>0.0525</td>\n",
       "      <td>0.0101</td>\n",
       "      <td>0.0084</td>\n",
       "      <td>0.0122</td>\n",
       "      <td>0.0175</td>\n",
       "      <td>-0.0006</td>\n",
       "      <td>0.0034</td>\n",
       "      <td>0.0118</td>\n",
       "      <td>0.0426</td>\n",
       "      <td>0.0106</td>\n",
       "    </tr>\n",
       "    <tr>\n",
       "      <th>1997-03</th>\n",
       "      <td>0.0078</td>\n",
       "      <td>-0.0021</td>\n",
       "      <td>-0.0012</td>\n",
       "      <td>-0.0120</td>\n",
       "      <td>0.0016</td>\n",
       "      <td>-0.0023</td>\n",
       "      <td>0.0109</td>\n",
       "      <td>-0.0119</td>\n",
       "      <td>-0.0084</td>\n",
       "      <td>0.0060</td>\n",
       "      <td>0.0010</td>\n",
       "      <td>0.0778</td>\n",
       "      <td>-0.0077</td>\n",
       "    </tr>\n",
       "    <tr>\n",
       "      <th>1997-04</th>\n",
       "      <td>0.0086</td>\n",
       "      <td>-0.0170</td>\n",
       "      <td>0.0030</td>\n",
       "      <td>0.0119</td>\n",
       "      <td>0.0119</td>\n",
       "      <td>-0.0005</td>\n",
       "      <td>0.0130</td>\n",
       "      <td>0.0172</td>\n",
       "      <td>0.0084</td>\n",
       "      <td>-0.0001</td>\n",
       "      <td>0.0122</td>\n",
       "      <td>-0.0129</td>\n",
       "      <td>0.0009</td>\n",
       "    </tr>\n",
       "    <tr>\n",
       "      <th>1997-05</th>\n",
       "      <td>0.0156</td>\n",
       "      <td>-0.0015</td>\n",
       "      <td>0.0233</td>\n",
       "      <td>0.0315</td>\n",
       "      <td>0.0189</td>\n",
       "      <td>0.0346</td>\n",
       "      <td>0.0118</td>\n",
       "      <td>0.0108</td>\n",
       "      <td>0.0394</td>\n",
       "      <td>0.0197</td>\n",
       "      <td>0.0173</td>\n",
       "      <td>-0.0737</td>\n",
       "      <td>0.0275</td>\n",
       "    </tr>\n",
       "  </tbody>\n",
       "</table>\n",
       "</div>"
      ],
      "text/plain": [
       "         Convertible Arbitrage  CTA Global  Distressed Securities  \\\n",
       "date                                                                \n",
       "1997-01                 0.0119      0.0393                 0.0178   \n",
       "1997-02                 0.0123      0.0298                 0.0122   \n",
       "1997-03                 0.0078     -0.0021                -0.0012   \n",
       "1997-04                 0.0086     -0.0170                 0.0030   \n",
       "1997-05                 0.0156     -0.0015                 0.0233   \n",
       "\n",
       "         Emerging Markets  Equity Market Neutral  Event Driven  \\\n",
       "date                                                             \n",
       "1997-01            0.0791                 0.0189        0.0213   \n",
       "1997-02            0.0525                 0.0101        0.0084   \n",
       "1997-03           -0.0120                 0.0016       -0.0023   \n",
       "1997-04            0.0119                 0.0119       -0.0005   \n",
       "1997-05            0.0315                 0.0189        0.0346   \n",
       "\n",
       "         Fixed Income Arbitrage  Global Macro  Long/Short Equity  \\\n",
       "date                                                               \n",
       "1997-01                  0.0191        0.0573             0.0281   \n",
       "1997-02                  0.0122        0.0175            -0.0006   \n",
       "1997-03                  0.0109       -0.0119            -0.0084   \n",
       "1997-04                  0.0130        0.0172             0.0084   \n",
       "1997-05                  0.0118        0.0108             0.0394   \n",
       "\n",
       "         Merger Arbitrage  Relative Value  Short Selling  Funds Of Funds  \n",
       "date                                                                      \n",
       "1997-01            0.0150          0.0180        -0.0166          0.0317  \n",
       "1997-02            0.0034          0.0118         0.0426          0.0106  \n",
       "1997-03            0.0060          0.0010         0.0778         -0.0077  \n",
       "1997-04           -0.0001          0.0122        -0.0129          0.0009  \n",
       "1997-05            0.0197          0.0173        -0.0737          0.0275  "
      ]
     },
     "execution_count": 3,
     "metadata": {},
     "output_type": "execute_result"
    }
   ],
   "source": [
    "hfi.head()"
   ]
  },
  {
   "cell_type": "code",
   "execution_count": 4,
   "metadata": {},
   "outputs": [],
   "source": [
    "er=erk.annualize_rets(hfi[\"2000\":],12)\n",
    "cov=hfi[\"2000\":].cov()"
   ]
  },
  {
   "cell_type": "code",
   "execution_count": 5,
   "metadata": {},
   "outputs": [
    {
     "data": {
      "text/html": [
       "<div>\n",
       "<style scoped>\n",
       "    .dataframe tbody tr th:only-of-type {\n",
       "        vertical-align: middle;\n",
       "    }\n",
       "\n",
       "    .dataframe tbody tr th {\n",
       "        vertical-align: top;\n",
       "    }\n",
       "\n",
       "    .dataframe thead th {\n",
       "        text-align: right;\n",
       "    }\n",
       "</style>\n",
       "<table border=\"1\" class=\"dataframe\">\n",
       "  <thead>\n",
       "    <tr style=\"text-align: right;\">\n",
       "      <th></th>\n",
       "      <th>Convertible Arbitrage</th>\n",
       "      <th>CTA Global</th>\n",
       "      <th>Distressed Securities</th>\n",
       "      <th>Emerging Markets</th>\n",
       "      <th>Equity Market Neutral</th>\n",
       "      <th>Event Driven</th>\n",
       "      <th>Fixed Income Arbitrage</th>\n",
       "      <th>Global Macro</th>\n",
       "      <th>Long/Short Equity</th>\n",
       "      <th>Merger Arbitrage</th>\n",
       "      <th>Relative Value</th>\n",
       "      <th>Short Selling</th>\n",
       "      <th>Funds Of Funds</th>\n",
       "    </tr>\n",
       "  </thead>\n",
       "  <tbody>\n",
       "    <tr>\n",
       "      <th>Convertible Arbitrage</th>\n",
       "      <td>0.000294</td>\n",
       "      <td>0.000003</td>\n",
       "      <td>0.000206</td>\n",
       "      <td>0.000306</td>\n",
       "      <td>0.000067</td>\n",
       "      <td>0.000199</td>\n",
       "      <td>0.000149</td>\n",
       "      <td>0.000087</td>\n",
       "      <td>0.000200</td>\n",
       "      <td>0.000082</td>\n",
       "      <td>0.000167</td>\n",
       "      <td>-0.000275</td>\n",
       "      <td>0.000159</td>\n",
       "    </tr>\n",
       "    <tr>\n",
       "      <th>CTA Global</th>\n",
       "      <td>0.000003</td>\n",
       "      <td>0.000538</td>\n",
       "      <td>0.000013</td>\n",
       "      <td>0.000066</td>\n",
       "      <td>0.000038</td>\n",
       "      <td>0.000023</td>\n",
       "      <td>0.000012</td>\n",
       "      <td>0.000188</td>\n",
       "      <td>0.000058</td>\n",
       "      <td>0.000019</td>\n",
       "      <td>0.000016</td>\n",
       "      <td>0.000096</td>\n",
       "      <td>0.000081</td>\n",
       "    </tr>\n",
       "    <tr>\n",
       "      <th>Distressed Securities</th>\n",
       "      <td>0.000206</td>\n",
       "      <td>0.000013</td>\n",
       "      <td>0.000269</td>\n",
       "      <td>0.000357</td>\n",
       "      <td>0.000077</td>\n",
       "      <td>0.000236</td>\n",
       "      <td>0.000126</td>\n",
       "      <td>0.000109</td>\n",
       "      <td>0.000243</td>\n",
       "      <td>0.000081</td>\n",
       "      <td>0.000160</td>\n",
       "      <td>-0.000394</td>\n",
       "      <td>0.000185</td>\n",
       "    </tr>\n",
       "    <tr>\n",
       "      <th>Emerging Markets</th>\n",
       "      <td>0.000306</td>\n",
       "      <td>0.000066</td>\n",
       "      <td>0.000357</td>\n",
       "      <td>0.000758</td>\n",
       "      <td>0.000117</td>\n",
       "      <td>0.000364</td>\n",
       "      <td>0.000184</td>\n",
       "      <td>0.000232</td>\n",
       "      <td>0.000453</td>\n",
       "      <td>0.000136</td>\n",
       "      <td>0.000271</td>\n",
       "      <td>-0.000761</td>\n",
       "      <td>0.000329</td>\n",
       "    </tr>\n",
       "    <tr>\n",
       "      <th>Equity Market Neutral</th>\n",
       "      <td>0.000067</td>\n",
       "      <td>0.000038</td>\n",
       "      <td>0.000077</td>\n",
       "      <td>0.000117</td>\n",
       "      <td>0.000063</td>\n",
       "      <td>0.000076</td>\n",
       "      <td>0.000039</td>\n",
       "      <td>0.000050</td>\n",
       "      <td>0.000094</td>\n",
       "      <td>0.000032</td>\n",
       "      <td>0.000056</td>\n",
       "      <td>-0.000100</td>\n",
       "      <td>0.000073</td>\n",
       "    </tr>\n",
       "    <tr>\n",
       "      <th>Event Driven</th>\n",
       "      <td>0.000199</td>\n",
       "      <td>0.000023</td>\n",
       "      <td>0.000236</td>\n",
       "      <td>0.000364</td>\n",
       "      <td>0.000076</td>\n",
       "      <td>0.000246</td>\n",
       "      <td>0.000114</td>\n",
       "      <td>0.000118</td>\n",
       "      <td>0.000270</td>\n",
       "      <td>0.000102</td>\n",
       "      <td>0.000166</td>\n",
       "      <td>-0.000439</td>\n",
       "      <td>0.000193</td>\n",
       "    </tr>\n",
       "    <tr>\n",
       "      <th>Fixed Income Arbitrage</th>\n",
       "      <td>0.000149</td>\n",
       "      <td>0.000012</td>\n",
       "      <td>0.000126</td>\n",
       "      <td>0.000184</td>\n",
       "      <td>0.000039</td>\n",
       "      <td>0.000114</td>\n",
       "      <td>0.000106</td>\n",
       "      <td>0.000057</td>\n",
       "      <td>0.000112</td>\n",
       "      <td>0.000042</td>\n",
       "      <td>0.000095</td>\n",
       "      <td>-0.000145</td>\n",
       "      <td>0.000094</td>\n",
       "    </tr>\n",
       "    <tr>\n",
       "      <th>Global Macro</th>\n",
       "      <td>0.000087</td>\n",
       "      <td>0.000188</td>\n",
       "      <td>0.000109</td>\n",
       "      <td>0.000232</td>\n",
       "      <td>0.000050</td>\n",
       "      <td>0.000118</td>\n",
       "      <td>0.000057</td>\n",
       "      <td>0.000155</td>\n",
       "      <td>0.000164</td>\n",
       "      <td>0.000051</td>\n",
       "      <td>0.000085</td>\n",
       "      <td>-0.000191</td>\n",
       "      <td>0.000133</td>\n",
       "    </tr>\n",
       "    <tr>\n",
       "      <th>Long/Short Equity</th>\n",
       "      <td>0.000200</td>\n",
       "      <td>0.000058</td>\n",
       "      <td>0.000243</td>\n",
       "      <td>0.000453</td>\n",
       "      <td>0.000094</td>\n",
       "      <td>0.000270</td>\n",
       "      <td>0.000112</td>\n",
       "      <td>0.000164</td>\n",
       "      <td>0.000360</td>\n",
       "      <td>0.000115</td>\n",
       "      <td>0.000189</td>\n",
       "      <td>-0.000609</td>\n",
       "      <td>0.000242</td>\n",
       "    </tr>\n",
       "    <tr>\n",
       "      <th>Merger Arbitrage</th>\n",
       "      <td>0.000082</td>\n",
       "      <td>0.000019</td>\n",
       "      <td>0.000081</td>\n",
       "      <td>0.000136</td>\n",
       "      <td>0.000032</td>\n",
       "      <td>0.000102</td>\n",
       "      <td>0.000042</td>\n",
       "      <td>0.000051</td>\n",
       "      <td>0.000115</td>\n",
       "      <td>0.000073</td>\n",
       "      <td>0.000071</td>\n",
       "      <td>-0.000167</td>\n",
       "      <td>0.000080</td>\n",
       "    </tr>\n",
       "    <tr>\n",
       "      <th>Relative Value</th>\n",
       "      <td>0.000167</td>\n",
       "      <td>0.000016</td>\n",
       "      <td>0.000160</td>\n",
       "      <td>0.000271</td>\n",
       "      <td>0.000056</td>\n",
       "      <td>0.000166</td>\n",
       "      <td>0.000095</td>\n",
       "      <td>0.000085</td>\n",
       "      <td>0.000189</td>\n",
       "      <td>0.000071</td>\n",
       "      <td>0.000132</td>\n",
       "      <td>-0.000293</td>\n",
       "      <td>0.000136</td>\n",
       "    </tr>\n",
       "    <tr>\n",
       "      <th>Short Selling</th>\n",
       "      <td>-0.000275</td>\n",
       "      <td>0.000096</td>\n",
       "      <td>-0.000394</td>\n",
       "      <td>-0.000761</td>\n",
       "      <td>-0.000100</td>\n",
       "      <td>-0.000439</td>\n",
       "      <td>-0.000145</td>\n",
       "      <td>-0.000191</td>\n",
       "      <td>-0.000609</td>\n",
       "      <td>-0.000167</td>\n",
       "      <td>-0.000293</td>\n",
       "      <td>0.001845</td>\n",
       "      <td>-0.000373</td>\n",
       "    </tr>\n",
       "    <tr>\n",
       "      <th>Funds Of Funds</th>\n",
       "      <td>0.000159</td>\n",
       "      <td>0.000081</td>\n",
       "      <td>0.000185</td>\n",
       "      <td>0.000329</td>\n",
       "      <td>0.000073</td>\n",
       "      <td>0.000193</td>\n",
       "      <td>0.000094</td>\n",
       "      <td>0.000133</td>\n",
       "      <td>0.000242</td>\n",
       "      <td>0.000080</td>\n",
       "      <td>0.000136</td>\n",
       "      <td>-0.000373</td>\n",
       "      <td>0.000193</td>\n",
       "    </tr>\n",
       "  </tbody>\n",
       "</table>\n",
       "</div>"
      ],
      "text/plain": [
       "                        Convertible Arbitrage  CTA Global  \\\n",
       "Convertible Arbitrage                0.000294    0.000003   \n",
       "CTA Global                           0.000003    0.000538   \n",
       "Distressed Securities                0.000206    0.000013   \n",
       "Emerging Markets                     0.000306    0.000066   \n",
       "Equity Market Neutral                0.000067    0.000038   \n",
       "Event Driven                         0.000199    0.000023   \n",
       "Fixed Income Arbitrage               0.000149    0.000012   \n",
       "Global Macro                         0.000087    0.000188   \n",
       "Long/Short Equity                    0.000200    0.000058   \n",
       "Merger Arbitrage                     0.000082    0.000019   \n",
       "Relative Value                       0.000167    0.000016   \n",
       "Short Selling                       -0.000275    0.000096   \n",
       "Funds Of Funds                       0.000159    0.000081   \n",
       "\n",
       "                        Distressed Securities  Emerging Markets  \\\n",
       "Convertible Arbitrage                0.000206          0.000306   \n",
       "CTA Global                           0.000013          0.000066   \n",
       "Distressed Securities                0.000269          0.000357   \n",
       "Emerging Markets                     0.000357          0.000758   \n",
       "Equity Market Neutral                0.000077          0.000117   \n",
       "Event Driven                         0.000236          0.000364   \n",
       "Fixed Income Arbitrage               0.000126          0.000184   \n",
       "Global Macro                         0.000109          0.000232   \n",
       "Long/Short Equity                    0.000243          0.000453   \n",
       "Merger Arbitrage                     0.000081          0.000136   \n",
       "Relative Value                       0.000160          0.000271   \n",
       "Short Selling                       -0.000394         -0.000761   \n",
       "Funds Of Funds                       0.000185          0.000329   \n",
       "\n",
       "                        Equity Market Neutral  Event Driven  \\\n",
       "Convertible Arbitrage                0.000067      0.000199   \n",
       "CTA Global                           0.000038      0.000023   \n",
       "Distressed Securities                0.000077      0.000236   \n",
       "Emerging Markets                     0.000117      0.000364   \n",
       "Equity Market Neutral                0.000063      0.000076   \n",
       "Event Driven                         0.000076      0.000246   \n",
       "Fixed Income Arbitrage               0.000039      0.000114   \n",
       "Global Macro                         0.000050      0.000118   \n",
       "Long/Short Equity                    0.000094      0.000270   \n",
       "Merger Arbitrage                     0.000032      0.000102   \n",
       "Relative Value                       0.000056      0.000166   \n",
       "Short Selling                       -0.000100     -0.000439   \n",
       "Funds Of Funds                       0.000073      0.000193   \n",
       "\n",
       "                        Fixed Income Arbitrage  Global Macro  \\\n",
       "Convertible Arbitrage                 0.000149      0.000087   \n",
       "CTA Global                            0.000012      0.000188   \n",
       "Distressed Securities                 0.000126      0.000109   \n",
       "Emerging Markets                      0.000184      0.000232   \n",
       "Equity Market Neutral                 0.000039      0.000050   \n",
       "Event Driven                          0.000114      0.000118   \n",
       "Fixed Income Arbitrage                0.000106      0.000057   \n",
       "Global Macro                          0.000057      0.000155   \n",
       "Long/Short Equity                     0.000112      0.000164   \n",
       "Merger Arbitrage                      0.000042      0.000051   \n",
       "Relative Value                        0.000095      0.000085   \n",
       "Short Selling                        -0.000145     -0.000191   \n",
       "Funds Of Funds                        0.000094      0.000133   \n",
       "\n",
       "                        Long/Short Equity  Merger Arbitrage  Relative Value  \\\n",
       "Convertible Arbitrage            0.000200          0.000082        0.000167   \n",
       "CTA Global                       0.000058          0.000019        0.000016   \n",
       "Distressed Securities            0.000243          0.000081        0.000160   \n",
       "Emerging Markets                 0.000453          0.000136        0.000271   \n",
       "Equity Market Neutral            0.000094          0.000032        0.000056   \n",
       "Event Driven                     0.000270          0.000102        0.000166   \n",
       "Fixed Income Arbitrage           0.000112          0.000042        0.000095   \n",
       "Global Macro                     0.000164          0.000051        0.000085   \n",
       "Long/Short Equity                0.000360          0.000115        0.000189   \n",
       "Merger Arbitrage                 0.000115          0.000073        0.000071   \n",
       "Relative Value                   0.000189          0.000071        0.000132   \n",
       "Short Selling                   -0.000609         -0.000167       -0.000293   \n",
       "Funds Of Funds                   0.000242          0.000080        0.000136   \n",
       "\n",
       "                        Short Selling  Funds Of Funds  \n",
       "Convertible Arbitrage       -0.000275        0.000159  \n",
       "CTA Global                   0.000096        0.000081  \n",
       "Distressed Securities       -0.000394        0.000185  \n",
       "Emerging Markets            -0.000761        0.000329  \n",
       "Equity Market Neutral       -0.000100        0.000073  \n",
       "Event Driven                -0.000439        0.000193  \n",
       "Fixed Income Arbitrage      -0.000145        0.000094  \n",
       "Global Macro                -0.000191        0.000133  \n",
       "Long/Short Equity           -0.000609        0.000242  \n",
       "Merger Arbitrage            -0.000167        0.000080  \n",
       "Relative Value              -0.000293        0.000136  \n",
       "Short Selling                0.001845       -0.000373  \n",
       "Funds Of Funds              -0.000373        0.000193  "
      ]
     },
     "execution_count": 5,
     "metadata": {},
     "output_type": "execute_result"
    }
   ],
   "source": [
    "cov"
   ]
  },
  {
   "cell_type": "code",
   "execution_count": 6,
   "metadata": {},
   "outputs": [
    {
     "data": {
      "text/plain": [
       "Distressed Securities    3.14\n",
       "dtype: float64"
      ]
     },
     "execution_count": 6,
     "metadata": {},
     "output_type": "execute_result"
    }
   ],
   "source": [
    "l=[\"Distressed Securities\"]\n",
    "(erk.var_gaussian(hfi[\"2000\":][l], level=1, modified=False)*100).round(2)\n"
   ]
  },
  {
   "cell_type": "code",
   "execution_count": null,
   "metadata": {},
   "outputs": [],
   "source": [
    "#Q1: 3.14"
   ]
  },
  {
   "cell_type": "code",
   "execution_count": 7,
   "metadata": {},
   "outputs": [
    {
     "data": {
      "text/plain": [
       "Distressed Securities    4.97\n",
       "dtype: float64"
      ]
     },
     "execution_count": 7,
     "metadata": {},
     "output_type": "execute_result"
    }
   ],
   "source": [
    "(erk.var_gaussian(hfi[\"2000\":][l], level=1, modified=True)*100).round(2)"
   ]
  },
  {
   "cell_type": "code",
   "execution_count": null,
   "metadata": {},
   "outputs": [],
   "source": [
    "#Q2:4.97"
   ]
  },
  {
   "cell_type": "code",
   "execution_count": 8,
   "metadata": {},
   "outputs": [
    {
     "data": {
      "text/plain": [
       "Distressed Securities    4.26\n",
       "dtype: float64"
      ]
     },
     "execution_count": 8,
     "metadata": {},
     "output_type": "execute_result"
    }
   ],
   "source": [
    "(erk.var_historic(hfi[\"2000\":][l],level=1)*100).round(2)"
   ]
  },
  {
   "cell_type": "code",
   "execution_count": 25,
   "metadata": {},
   "outputs": [],
   "source": [
    "#Q3: 4.26"
   ]
  },
  {
   "cell_type": "code",
   "execution_count": 9,
   "metadata": {},
   "outputs": [],
   "source": [
    "# New DataSet - erk.get_ind_returns() function - 2013-2017 - “Books”, “Steel”, \"Oil\", and \"Mines\" \n",
    "# RiskFree_rate=10%\n",
    "ind = erk.get_ind_returns()\n",
    "er=erk.annualize_rets(ind[\"2013\":\"2017\"],12)\n",
    "cov=ind[\"2013\":\"2017\"].cov()\n",
    "l=[\"Books\",\"Steel\",\"Oil\",\"Mines\"]\n",
    "#ind.head()"
   ]
  },
  {
   "cell_type": "code",
   "execution_count": null,
   "metadata": {},
   "outputs": [],
   "source": [
    "#equally weighted - EW"
   ]
  },
  {
   "cell_type": "code",
   "execution_count": 10,
   "metadata": {},
   "outputs": [
    {
     "data": {
      "text/plain": [
       "array([25., 25., 25., 25.])"
      ]
     },
     "execution_count": 10,
     "metadata": {},
     "output_type": "execute_result"
    }
   ],
   "source": [
    "n=er[l].shape[0]\n",
    "w_ew=np.repeat(1/n,n)\n",
    "r_ew=erk.portfolio_return(w_ew,er[l])\n",
    "vol_ew=erk.portfolio_vol(w_ew,cov.loc[l,l])\n",
    "(w_ew*100).round(2)"
   ]
  },
  {
   "cell_type": "code",
   "execution_count": null,
   "metadata": {},
   "outputs": [],
   "source": [
    "#Q4: 25"
   ]
  },
  {
   "cell_type": "code",
   "execution_count": 38,
   "metadata": {},
   "outputs": [],
   "source": [
    "#Maximum Sharpe ratio portfolio - MSR"
   ]
  },
  {
   "cell_type": "code",
   "execution_count": 11,
   "metadata": {},
   "outputs": [
    {
     "name": "stdout",
     "output_type": "stream",
     "text": [
      " Weights:[4.51375048e-15 1.00000000e+00 1.40512602e-16 0.00000000e+00], SUM:1.0, Max:0.9999999999999953\n"
     ]
    }
   ],
   "source": [
    "msr_weights=erk.msr(0.1,er[l], cov.loc[l,l])\n",
    "print(f' Weights:{msr_weights}, SUM:{msr_weights.sum()}, Max:{msr_weights.max()}')"
   ]
  },
  {
   "cell_type": "code",
   "execution_count": 12,
   "metadata": {},
   "outputs": [
    {
     "name": "stdout",
     "output_type": "stream",
     "text": [
      "100.0 Steel\n"
     ]
    }
   ],
   "source": [
    "msr_weights = erk.msr(0.1, er[l], cov.loc[l, l])\n",
    "print((msr_weights.max()*100).round(2), l[msr_weights.argmax()])"
   ]
  },
  {
   "cell_type": "code",
   "execution_count": null,
   "metadata": {},
   "outputs": [],
   "source": [
    "#Q5:100; #Q6:Steel"
   ]
  },
  {
   "cell_type": "code",
   "execution_count": 13,
   "metadata": {},
   "outputs": [
    {
     "data": {
      "text/plain": [
       "1"
      ]
     },
     "execution_count": 13,
     "metadata": {},
     "output_type": "execute_result"
    }
   ],
   "source": [
    "sum(msr_weights>0.01)  # I think that should be sum(msr_weights>0) - 3"
   ]
  },
  {
   "cell_type": "code",
   "execution_count": 58,
   "metadata": {},
   "outputs": [],
   "source": [
    "#Q7: 1"
   ]
  },
  {
   "cell_type": "code",
   "execution_count": 14,
   "metadata": {},
   "outputs": [],
   "source": [
    "# Gloal Minimum Vol portfolio (GMV)"
   ]
  },
  {
   "cell_type": "code",
   "execution_count": 15,
   "metadata": {},
   "outputs": [
    {
     "name": "stdout",
     "output_type": "stream",
     "text": [
      " Weights:[4.77024870e-01 4.33680869e-19 4.34112024e-01 8.88631053e-02], SUM:1.0, Max:0.47702487032166246\n"
     ]
    }
   ],
   "source": [
    "gmv_weights=erk.gmv(cov.loc[l,l])\n",
    "print(f' Weights:{gmv_weights}, SUM:{gmv_weights.sum()}, Max:{gmv_weights.max()}')"
   ]
  },
  {
   "cell_type": "code",
   "execution_count": 16,
   "metadata": {},
   "outputs": [
    {
     "name": "stdout",
     "output_type": "stream",
     "text": [
      "47.7 Books\n"
     ]
    }
   ],
   "source": [
    "print((gmv_weights.max()*100).round(2), l[gmv_weights.argmax()])"
   ]
  },
  {
   "cell_type": "code",
   "execution_count": null,
   "metadata": {},
   "outputs": [],
   "source": [
    "#Q8: 47.7 #Q9:Books"
   ]
  },
  {
   "cell_type": "code",
   "execution_count": 17,
   "metadata": {},
   "outputs": [
    {
     "data": {
      "text/plain": [
       "3"
      ]
     },
     "execution_count": 17,
     "metadata": {},
     "output_type": "execute_result"
    }
   ],
   "source": [
    "sum(gmv_weights>0.01) # I think that should be sum(gmv_weights>0) -4"
   ]
  },
  {
   "cell_type": "code",
   "execution_count": null,
   "metadata": {},
   "outputs": [],
   "source": [
    "#Q10: 3"
   ]
  },
  {
   "cell_type": "code",
   "execution_count": 18,
   "metadata": {},
   "outputs": [
    {
     "data": {
      "text/plain": [
       "<matplotlib.axes._subplots.AxesSubplot at 0x251496d09b0>"
      ]
     },
     "execution_count": 18,
     "metadata": {},
     "output_type": "execute_result"
    },
    {
     "data": {
      "image/png": "[encoded data removed]",
      "text/plain": [
       "<Figure size 432x288 with 1 Axes>"
      ]
     },
     "metadata": {
      "needs_background": "light"
     },
     "output_type": "display_data"
    }
   ],
   "source": [
    "erk.plot_ef(20,er[l],cov.loc[l,l],show_cml=True, riskfree_rate=0.1,show_ew=True,show_gmv=True)"
   ]
  },
  {
   "cell_type": "code",
   "execution_count": 19,
   "metadata": {},
   "outputs": [],
   "source": [
    "ind = erk.get_ind_returns()\n",
    "covmat=ind[\"2018\"][l].cov()"
   ]
  },
  {
   "cell_type": "code",
   "execution_count": 20,
   "metadata": {},
   "outputs": [],
   "source": [
    "Vol_MSR=erk.portfolio_vol(msr_weights,covmat)"
   ]
  },
  {
   "cell_type": "code",
   "execution_count": 21,
   "metadata": {},
   "outputs": [
    {
     "data": {
      "text/plain": [
       "0.21983988181484135"
      ]
     },
     "execution_count": 21,
     "metadata": {},
     "output_type": "execute_result"
    }
   ],
   "source": [
    "Annualize_Vol_MSR=Vol_MSR*np.sqrt(12)\n",
    "Annualize_Vol_MSR"
   ]
  },
  {
   "cell_type": "code",
   "execution_count": 22,
   "metadata": {},
   "outputs": [
    {
     "data": {
      "text/plain": [
       "21.98"
      ]
     },
     "execution_count": 22,
     "metadata": {},
     "output_type": "execute_result"
    }
   ],
   "source": [
    "(Annualize_Vol_MSR*100).round(2)"
   ]
  },
  {
   "cell_type": "code",
   "execution_count": null,
   "metadata": {},
   "outputs": [],
   "source": [
    "#Q11: 21.98"
   ]
  },
  {
   "cell_type": "code",
   "execution_count": 23,
   "metadata": {},
   "outputs": [],
   "source": [
    "Vol_GMV=erk.portfolio_vol(gmv_weights,covmat)"
   ]
  },
  {
   "cell_type": "code",
   "execution_count": 24,
   "metadata": {},
   "outputs": [
    {
     "data": {
      "text/plain": [
       "0.18973734511535803"
      ]
     },
     "execution_count": 24,
     "metadata": {},
     "output_type": "execute_result"
    }
   ],
   "source": [
    "Annualize_Vol_GMV=Vol_GMV*np.sqrt(12)\n",
    "Annualize_Vol_GMV"
   ]
  },
  {
   "cell_type": "code",
   "execution_count": 25,
   "metadata": {},
   "outputs": [
    {
     "data": {
      "text/plain": [
       "18.97"
      ]
     },
     "execution_count": 25,
     "metadata": {},
     "output_type": "execute_result"
    }
   ],
   "source": [
    "(Annualize_Vol_GMV*100).round(2)"
   ]
  }
 ],
 "metadata": {
  "kernelspec": {
   "display_name": "Python 3",
   "language": "python",
   "name": "python3"
  },
  "language_info": {
   "codemirror_mode": {
    "name": "ipython",
    "version": 3
   },
   "file_extension": ".py",
   "mimetype": "text/x-python",
   "name": "python",
   "nbconvert_exporter": "python",
   "pygments_lexer": "ipython3",
   "version": "3.7.3"
  }
 },
 "nbformat": 4,
 "nbformat_minor": 2
}
